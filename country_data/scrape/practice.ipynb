{
 "cells": [
  {
   "cell_type": "code",
   "execution_count": 119,
   "metadata": {},
   "outputs": [],
   "source": [
    "import requests as rq\n",
    "from bs4 import BeautifulSoup\n",
    "\n",
    "BASE_URL = \"https://www.cia.gov/the-world-factbook/countries/\"\n",
    "formatted_country_url_fragments = [\"afghanistan\", \"akrotiri\", \"albania\", \"algeria\", \"american-samoa\", \"andorra\", \"angola\", \"anguilla\", \"antarctica\", \"antigua-and-barbuda\", \"argentina\", \"armenia\", \"aruba\", \"ashmore-and-cartier-islands\", \"australia\", \"austria\", \"azerbaijan\", \"bahamas-the\", \"bahrain\", \"baker-island\", \"bangladesh\", \"barbados\", \"belarus\", \"belgium\", \"belize\", \"benin\", \"bermuda\", \"bhutan\", \"bolivia\", \"bosnia-and-herzegovina\", \"botswana\", \"bouvet-island\", \"brazil\", \"british-indian-ocean-territory\", \"british-virgin-islands\", \"brunei\", \"bulgaria\", \"burkina-faso\", \"burma\", \"burundi\", \"cabo-verde\", \"cambodia\", \"cameroon\", \"canada\", \"cayman-islands\", \"central-african-republic\", \"chad\", \"chile\", \"china\", \"christmas-island\", \"clipperton-island\", \"cocos-keeling-islands\", \"colombia\", \"comoros\", \"congo-democratic-republic-of-the\", \"congo-republic-of-the\", \"cook-islands\", \"coral-sea-islands\", \"costa-rica\", \"cote-divoire\", \"croatia\", \"cuba\", \"curacao\", \"cyprus\", \"czechia\", \"denmark\", \"dhekelia\", \"djibouti\", \"dominica\", \"dominican-republic\", \"ecuador\", \"egypt\", \"el-salvador\", \"equatorial-guinea\", \"eritrea\", \"estonia\", \"eswatini\", \"ethiopia\", \"european-union\", \"falkland-islands-islas-malvinas\", \"faroe-islands\", \"fiji\", \"finland\", \"france\", \"french-polynesia\", \"french-southern-and-antarctic-lands\", \"gabon\", \"gambia-the\", \"gaza-strip\", \"georgia\", \"germany\", \"ghana\", \"gibraltar\", \"greece\", \"greenland\", \"grenada\", \"guam\", \"guatemala\", \"guernsey\", \"guinea\", \"guinea-bissau\", \"guyana\", \"haiti\", \"heard-island-and-mcdonald-islands\", \"holy-see-vatican-city\", \"honduras\", \"hong-kong\", \"howland-island\", \"hungary\", \"iceland\", \"india\", \"indonesia\", \"iran\", \"iraq\", \"ireland\", \"isle-of-man\", \"israel\", \"italy\", \"jamaica\", \"jan-mayen\", \"japan\", \"jarvis-island\", \"jersey\", \"johnston-atoll\", \"jordan\", \"kazakhstan\", \"kenya\", \"kingman-reef\", \"kiribati\", \"korea-north\", \"korea-south\", \"kosovo\", \"kuwait\", \"kyrgyzstan\", \"laos\", \"latvia\", \"lebanon\", \"lesotho\", \"liberia\", \"libya\", \"liechtenstein\", \"lithuania\", \"luxembourg\", \"macau\", \"madagascar\", \"malawi\", \"malaysia\", \"maldives\", \"mali\", \"malta\", \"marshall-islands\", \"mauritania\", \"mauritius\", \"mexico\", \"micronesia-federated-states-of\", \"midway-islands\", \"moldova\", \"monaco\", \"mongolia\", \"montenegro\", \"montserrat\", \"morocco\", \"mozambique\", \"namibia\", \"nauru\", \"navassa-island\", \"nepal\", \"netherlands\", \"new-caledonia\", \"new-zealand\", \"nicaragua\", \"niger\", \"nigeria\", \"niue\", \"norfolk-island\", \"north-macedonia\", \"northern-mariana-islands\", \"norway\", \"oman\", \"pakistan\", \"palau\", \"palmyra-atoll\", \"panama\", \"papua-new-guinea\", \"paracel-islands\", \"paraguay\", \"peru\", \"philippines\", \"pitcairn-islands\", \"poland\", \"portugal\", \"puerto-rico\", \"qatar\", \"romania\", \"russia\", \"rwanda\", \"saint-barthelemy\", \"saint-helena-ascension-and-tristan-da-cunha\", \"saint-kitts-and-nevis\", \"saint-lucia\", \"saint-martin\", \"saint-pierre-and-miquelon\", \"saint-vincent-and-the-grenadines\", \"samoa\", \"san-marino\", \"sao-tome-and-principe\", \"saudi-arabia\", \"senegal\", \"serbia\", \"seychelles\", \"sierra-leone\", \"singapore\", \"sint-maarten\", \"slovakia\", \"slovenia\", \"solomon-islands\", \"somalia\", \"south-africa\", \"south-georgia-and-south-sandwich-islands\", \"south-sudan\", \"spain\", \"spratly-islands\", \"sri-lanka\", \"sudan\", \"suriname\", \"svalbard\", \"sweden\", \"switzerland\", \"syria\", \"taiwan\", \"tajikistan\", \"tanzania\", \"thailand\", \"timor-leste\", \"togo\", \"tokelau\", \"tonga\", \"trinidad-and-tobago\", \"tunisia\", \"turkey-turkiye\", \"turkmenistan\", \"turks-and-caicos-islands\", \"tuvalu\", \"uganda\", \"ukraine\", \"united-arab-emirates\", \"united-kingdom\", \"united-states\", \"united-states-pacific-island-wildlife-refuges\", \"uruguay\", \"uzbekistan\", \"vanuatu\", \"venezuela\", \"vietnam\", \"virgin-islands\", \"wake-island\", \"wallis-and-futuna\", \"west-bank\", \"world\", \"yemen\", \"zambia\", \"zimbabwe\"]\n",
    "\n",
    "argentina_url = BASE_URL + formatted_country_url_fragments[10]\n",
    "response = rq.get(argentina_url)\n",
    "soup = BeautifulSoup(response.text, \"html.parser\")"
   ]
  },
  {
   "cell_type": "code",
   "execution_count": 11,
   "metadata": {},
   "outputs": [
    {
     "name": "stdout",
     "output_type": "stream",
     "text": [
      "<div><h3 class=\"mt30\"><a href=\"/the-world-factbook/field/geographic-coordinates\">Geographic coordinates</a></h3><p>34 00 S, 64 00 W</p></div>\n",
      "<div><h3 class=\"mt30\"><a href=\"/the-world-factbook/field/coastline\">Coastline</a></h3><p>4,989 km</p></div>\n"
     ]
    }
   ],
   "source": [
    "geography_div = soup.find(\"div\", id=\"geography\")\n",
    "\n",
    "extracted_data = {}\n",
    "target_metrics = [\n",
    "    \"Geographic coordinates\",\n",
    "    \"Coastline\"\n",
    "]\n",
    "\n",
    "geographic_coordinates_div = geography_div.find(\"a\", string=\"Geographic coordinates\").parent.parent\n",
    "coastline_div = geography_div.find(\"a\", string=\"Coastline\").parent.parent\n",
    "print(geographic_coordinates_div)\n",
    "print(coastline_div)"
   ]
  },
  {
   "cell_type": "code",
   "execution_count": 14,
   "metadata": {},
   "outputs": [
    {
     "name": "stdout",
     "output_type": "stream",
     "text": [
      "<div><h3 class=\"mt30\"><a href=\"/the-world-factbook/field/geographic-coordinates\">Geographic coordinates</a></h3><p>34 00 S, 64 00 W</p></div>\n",
      "<div><h3 class=\"mt30\"><a href=\"/the-world-factbook/field/coastline\">Coastline</a></h3><p>4,989 km</p></div>\n"
     ]
    }
   ],
   "source": [
    "target_metrics = [\n",
    "    \"Geographic coordinates\",\n",
    "    \"Time zone\",\n",
    "    # \"Land Area\",\n",
    "    # \"Water Area\",\n",
    "    # \"Land Boundaries\",\n",
    "    # \"Border Countries\",\n",
    "    \"Coastline\",\n",
    "    # \"Highest Elevation\",\n",
    "    # \"Mean Elevation\"\n",
    "]\n",
    "\n",
    "geography_div = soup.find(\"div\", id=\"geography\")\n",
    "\n",
    "extracted_data = {}\n",
    "\n",
    "for metric in target_metrics:\n",
    "    try:\n",
    "        metric_div = geography_div.find(\"a\", string=metric).parent.parent\n",
    "        print(metric_div)\n",
    "    except:\n",
    "        pass"
   ]
  },
  {
   "cell_type": "code",
   "execution_count": 132,
   "metadata": {},
   "outputs": [
    {
     "data": {
      "text/plain": [
       "<div class=\"free-form-content__content wysiwyg-wrapper wfb-nav-article\" id=\"communications\"><h2>Communications</h2><div><h3 class=\"mt30\"><a href=\"/the-world-factbook/field/telephones-fixed-lines\">Telephones - fixed lines</a></h3><p><strong>total subscriptions:</strong> 6,903,068 (2021 est.)<br/><br/><strong>subscriptions per 100 inhabitants:</strong> 15 (2021 est.)</p><p>comparison ranking<!-- -->: <a href=\"/the-world-factbook/field/telephones-fixed-lines/country-comparison\">total subscriptions 22</a></p></div><div><h3 class=\"mt30\"><a href=\"/the-world-factbook/field/telephones-mobile-cellular\">Telephones - mobile cellular</a></h3><p><strong>total subscriptions:</strong> 59,065,827 (2021 est.)<br/><br/><strong>subscriptions per 100 inhabitants:</strong> 130 (2021 est.)</p><p>comparison ranking<!-- -->: <a href=\"/the-world-factbook/field/telephones-mobile-cellular/country-comparison\">total subscriptions 28</a></p></div><div><h3 class=\"mt30\"><a href=\"/the-world-factbook/field/telecommunication-systems\">Telecommunication systems</a></h3><p><strong>general assessment:</strong> Argentinaâs ongoing problem with hyperinflation continues to distort the telecom marketâs performance, which shows strong growth in revenue but only modest gains in subscriber numbers each year; the fixed broadband segment has penetration levels only slightly higher than the fixed-line teledensity; nearly a quarter of the countryâs broadband connections are via DSL, although fiber is starting claim an increasing share of that market as networks expand across most of the main cities; mobile broadband continues to be the preferred platform for internet access, supported by high mobile penetration levels and nationwide LTE coverage; the first 5G service was launched in February 2021 using refarmed LTE frequencies; the anticipated 5G spectrum auctions should drive even stronger uptake in mobile broadband services; while the various fixed, mobile, and cable operators push to expand and enhance their services, the government is also making an active contribution towards boosting broadband connectivity around the country; its national connectivity plan âPlan Conectarâ, launched in September 2020, provides funding for a range of programs to increase coverage; in August 2021, the telecom regulator announced the release funding to help operators accelerate the rollout of their broadband infrastructure and services (2021)<br/><br/><strong>domestic:</strong> roughly 15 per 100 fixed-line and 130 per 100 mobile-cellular; microwave radio relay, fiber-optic cable, and a domestic satellite system with 40 earth stations serve the trunk network (2021)<br/><br/><strong>international:</strong> country code - 54; landing points for the UNISUR, Bicentenario,Â Atlantis-2, SAm-1, andÂ SAC, Tannat, Malbec and ARBRÂ submarine cable systems that provide links to Europe, Africa, South and Central America, and US; satellite earth stations - 112 (2019)</p></div><div><h3 class=\"mt30\"><a href=\"/the-world-factbook/field/broadcast-media\">Broadcast media</a></h3><p>government owns a TV station and radio network; more than two dozen TV stations and hundreds of privately owned radio stations; high rate of cable TV subscription usage (2022)</p></div><div><h3 class=\"mt30\"><a href=\"/the-world-factbook/field/internet-country-code\">Internet country code</a></h3><p>.ar</p></div><div><h3 class=\"mt30\"><a href=\"/the-world-factbook/field/internet-users\">Internet users</a></h3><p><strong>total:</strong> 39.15 million (2021 est.)<br/><br/><strong>percent of population:</strong> 87% (2021 est.)</p><p>comparison ranking<!-- -->: <a href=\"/the-world-factbook/field/internet-users/country-comparison\">total 25</a></p></div><div><h3 class=\"mt30\"><a href=\"/the-world-factbook/field/broadband-fixed-subscriptions\">Broadband - fixed subscriptions</a></h3><p><strong>total:</strong> 9,571,562 (2020 est.)<br/><br/><strong>subscriptions per 100 inhabitants:</strong> 21 (2020 est.)</p><p>comparison ranking<!-- -->: <a href=\"/the-world-factbook/field/broadband-fixed-subscriptions/country-comparison\">total 20</a></p></div></div>"
      ]
     },
     "execution_count": 132,
     "metadata": {},
     "output_type": "execute_result"
    }
   ],
   "source": [
    "communications_div = soup.find(\"div\", id=\"communications\")\n",
    "communications_div"
   ]
  },
  {
   "cell_type": "code",
   "execution_count": 141,
   "metadata": {},
   "outputs": [
    {
     "data": {
      "text/plain": [
       "('59,065,827', '39.15 million', '87%', '.ar')"
      ]
     },
     "execution_count": 141,
     "metadata": {},
     "output_type": "execute_result"
    }
   ],
   "source": [
    "mobile_phone_subscriptions = communications_div.find(\"a\", string=\"Telephones - mobile cellular\").parent.parent.find(\"p\").text.split(\"subscriptions: \")[1].split(\" (\")[0]\n",
    "internet_users_div = communications_div.find(\"a\", string=\"Internet users\").parent.parent\n",
    "internet_users_total = internet_users_div.find(\"p\").text.split(\"total: \")[1].split(\" (\")[0]\n",
    "internet_users_pct = internet_users_div.find(\"p\").text.split(\"population: \")[1].split(\" (\")[0]\n",
    "internet_country_code = communications_div.find(\"a\", string=\"Internet country code\").parent.parent.find(\"p\").text\n",
    "mobile_phone_subscriptions, internet_users_total, internet_users_pct, internet_country_code"
   ]
  },
  {
   "cell_type": "markdown",
   "metadata": {},
   "source": [
    "# Energy\n",
    "# # # Population without electricity\n",
    "# # # Electricity access\n",
    "\n",
    "# Communications\n",
    "# # # Internet users\n",
    "# # # Internet country code\n"
   ]
  },
  {
   "cell_type": "code",
   "execution_count": null,
   "metadata": {},
   "outputs": [],
   "source": [
    "# print(soup.prettify())\n",
    "# Geography\n",
    "# geography_div = soup.find(\"div\", {\"id\": \"geography\"})\n",
    "# print(geography_div.prettify())\n",
    "\n",
    "# # # Geographic coordinates\n",
    "# geogrphic_coordinates_title = geography_div.find(\"a\", {\"href\": \"#/the-world-factbook/field/geographic-coordinates\"})\n",
    "# print(geogrphic_coordinates_title)\n",
    "# # # Time zone\n",
    "# # # Land Area\n",
    "# # # Water Area\n",
    "# # # Land Boundaries\n",
    "# # # Border Countries\n",
    "# # # Coastline\n",
    "# # # Highest Elevation\n",
    "# # # Mean Elevation\n",
    "\n",
    "# People and Society\n",
    "# # # Population\n",
    "# # # Religions\n",
    "# # # Median Age\n",
    "# # # Population Growth Rate\n",
    "# # # Birth Rate\n",
    "# # # Death Rate\n",
    "# # # Urban population\n",
    "# # # Sex ratio\n",
    "# # # Infant mortality rate\n",
    "# # # Life expectancy at birth\n",
    "# # # Drinking water source\n",
    "# # # Obesity\n",
    "# # # Literacy rate\n",
    "\n",
    "# Government\n",
    "# # # Government type\n",
    "\n",
    "# Economy\n",
    "# # # GDP\n",
    "# # # GDP growth rate\n",
    "# # # GDP per capita\n",
    "# # # Total Labor force\n",
    "# # # Unemployment rate\n",
    "# # # Population below poverty line\n",
    "# # # Exports\n",
    "# # # Export partners\n",
    "# # # Export commodities\n",
    "# # # Imports\n",
    "# # # Exchange rate\n",
    "\n",
    "# Energy\n",
    "# # # Population without electricity\n",
    "# # # Electricity access\n",
    "\n",
    "# Communications\n",
    "# # # Internet users\n",
    "# # # Internet country code\n"
   ]
  }
 ],
 "metadata": {
  "kernelspec": {
   "display_name": "Python 3",
   "language": "python",
   "name": "python3"
  },
  "language_info": {
   "codemirror_mode": {
    "name": "ipython",
    "version": 3
   },
   "file_extension": ".py",
   "mimetype": "text/x-python",
   "name": "python",
   "nbconvert_exporter": "python",
   "pygments_lexer": "ipython3",
   "version": "3.10.9"
  },
  "orig_nbformat": 4
 },
 "nbformat": 4,
 "nbformat_minor": 2
}
