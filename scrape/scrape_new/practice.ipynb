{
 "cells": [
  {
   "cell_type": "code",
   "execution_count": 5,
   "metadata": {},
   "outputs": [],
   "source": [
    "import requests as rq\n",
    "from bs4 import BeautifulSoup\n",
    "\n",
    "BASE_URL = \"https://www.cia.gov/the-world-factbook/\"\n",
    "clue_url_fragments = [\"field/administrative-divisions/\", \"field/age-structure/\", \"field/age-structure/\", \"field/agricultural-products/\", \"field/airports/\", \"field/area/\", \"field/area/\", \"field/area/\", \"field/area-comparative/\", \"field/birth-rate/\", \"field/budget/\", \"field/budget/\", \"field/capital/\", \"field/capital/\", \"field/capital/\", \"field/carbon-dioxide-emissions/\", \"field/citizenship/\", \"field/citizenship/\", \"field/citizenship/\", \"field/climate/\", \"field/coastline/\", \"field/constitution/\", \"field/credit-ratings/\",\n",
    "                                   \"field/current-health-expenditure/\", \"field/death-rate/\", \"field/debt-external/\", \"field/drinking-water-source/\", \"field/electricity/\", \"field/electricity-access/\", \"field/elevation/\", \"field/elevation/\", \"field/elevation/\", \"field/environment-international-agreements/\", \"field/ethnic-groups/\", \"field/executive-branch/\", \"field/exchange-rates/\", \"field/exports/\", \"field/exports-commodities/\", \"field/exports-partners/\", \"field/gdp-official-exchange-rate/\", \"field/geographic-coordinates/\", \"field/geographic-coordinates/\"]\n",
    "\n",
    "administrative_divisions_url = BASE_URL + clue_url_fragments[0]\n",
    "# print(administrative_divisions_url)\n",
    "response = rq.get(administrative_divisions_url)\n",
    "# print(response.status_code)\n",
    "soup = BeautifulSoup(response.text, \"html.parser\")"
   ]
  },
  {
   "cell_type": "code",
   "execution_count": 21,
   "metadata": {},
   "outputs": [
    {
     "data": {
      "text/plain": [
       "'34 provinces (welayat, singular - welayat)'"
      ]
     },
     "execution_count": 21,
     "metadata": {},
     "output_type": "execute_result"
    }
   ],
   "source": [
    "# find Afghanistan\n",
    "Afghan_parent = soup.find('a', href='/the-world-factbook/countries/afghanistan/').parent.parent\n",
    "Afghan_parent.get_text(strip=True)[len(\"Afghanistan\"):].split(';')[0]"
   ]
  },
  {
   "cell_type": "code",
   "execution_count": 2,
   "metadata": {},
   "outputs": [
    {
     "name": "stdout",
     "output_type": "stream",
     "text": [
      "['Afghanistan', 'Akrotiri', 'Albania', 'Algeria', 'American Samoa', 'Andorra', 'Angola', 'Anguilla', 'Antarctica', 'Antigua and Barbuda', 'Argentina', 'Armenia', 'Aruba', 'Ashmore and Cartier Islands', 'Australia', 'Austria', 'Azerbaijan', 'Bahamas, The', 'Bahrain', 'Baker Island', 'Bangladesh', 'Barbados', 'Belarus', 'Belgium', 'Belize', 'Benin', 'Bermuda', 'Bhutan', 'Bolivia', 'Bosnia and Herzegovina', 'Botswana', 'Bouvet Island', 'Brazil', 'British Indian Ocean Territory', 'British Virgin Islands', 'Brunei', 'Bulgaria', 'Burkina Faso', 'Burma', 'Burundi', 'Cabo Verde', 'Cambodia', 'Cameroon', 'Canada', 'Cayman Islands', 'Central African Republic', 'Chad', 'Chile', 'China', 'Christmas Island', 'Clipperton Island', 'Cocos (Keeling) Islands', 'Colombia', 'Comoros', 'Congo, Democratic Republic of the', 'Congo, Republic of the', 'Cook Islands', 'Coral Sea Islands', 'Costa Rica', \"Cote d'Ivoire\", 'Croatia', 'Cuba', 'Curacao', 'Cyprus', 'Czechia', 'Denmark', 'Dhekelia', 'Djibouti', 'Dominica', 'Dominican Republic', 'Ecuador', 'Egypt', 'El Salvador', 'Equatorial Guinea', 'Eritrea', 'Estonia', 'Eswatini', 'Ethiopia', 'Falkland Islands (Islas Malvinas)', 'Faroe Islands', 'Fiji', 'Finland', 'France', 'French Polynesia', 'French Southern and Antarctic Lands', 'Gabon', 'Gambia, The', 'Gaza Strip', 'Georgia', 'Germany', 'Ghana', 'Gibraltar', 'Greece', 'Greenland', 'Grenada', 'Guam', 'Guatemala', 'Guernsey', 'Guinea', 'Guinea-Bissau', 'Guyana', 'Haiti', 'Heard Island and McDonald Islands', 'Holy See (Vatican City)', 'Honduras', 'Hong Kong', 'Howland Island', 'Hungary', 'Iceland', 'India', 'Indonesia', 'Iran', 'Iraq', 'Ireland', 'Isle of Man', 'Israel', 'Italy', 'Jamaica', 'Jan Mayen', 'Japan', 'Jarvis Island', 'Jersey', 'Johnston Atoll', 'Jordan', 'Kazakhstan', 'Kenya', 'Kingman Reef', 'Kiribati', 'Korea, North', 'Korea, South', 'Kosovo', 'Kuwait', 'Kyrgyzstan', 'Laos', 'Latvia', 'Lebanon', 'Lesotho', 'Liberia', 'Libya', 'Liechtenstein', 'Lithuania', 'Luxembourg', 'Macau', 'Madagascar', 'Malawi', 'Malaysia', 'Maldives', 'Mali', 'Malta', 'Marshall Islands', 'Mauritania', 'Mauritius', 'Mexico', 'Micronesia, Federated States of', 'Midway Islands', 'Moldova', 'Monaco', 'Mongolia', 'Montenegro', 'Montserrat', 'Morocco', 'Mozambique', 'Namibia', 'Nauru', 'Navassa Island', 'Nepal', 'Netherlands', 'New Caledonia', 'New Zealand', 'Nicaragua', 'Niger', 'Nigeria', 'Niue', 'Norfolk Island', 'North Macedonia', 'Northern Mariana Islands', 'Norway', 'Oman', 'Pakistan', 'Palau', 'Palmyra Atoll', 'Panama', 'Papua New Guinea', 'Paracel Islands', 'Paraguay', 'Peru', 'Philippines', 'Pitcairn Islands', 'Poland', 'Portugal', 'Puerto Rico', 'Qatar', 'Romania', 'Russia', 'Rwanda', 'Saint Barthelemy', 'Saint Helena, Ascension, and Tristan da Cunha', 'Saint Kitts and Nevis', 'Saint Lucia', 'Saint Martin', 'Saint Pierre and Miquelon', 'Saint Vincent and the Grenadines', 'Samoa', 'San Marino', 'Sao Tome and Principe', 'Saudi Arabia', 'Senegal', 'Serbia', 'Seychelles', 'Sierra Leone', 'Singapore', 'Sint Maarten', 'Slovakia', 'Slovenia', 'Solomon Islands', 'Somalia', 'South Africa', 'South Georgia and South Sandwich Islands', 'South Sudan', 'Spain', 'Spratly Islands', 'Sri Lanka', 'Sudan', 'Suriname', 'Svalbard', 'Sweden', 'Switzerland', 'Syria', 'Taiwan', 'Tajikistan', 'Tanzania', 'Thailand', 'Timor-Leste', 'Togo', 'Tokelau', 'Tonga', 'Trinidad and Tobago', 'Tunisia', 'Turkey (Turkiye)', 'Turkmenistan', 'Turks and Caicos Islands', 'Tuvalu', 'Uganda', 'Ukraine', 'United Arab Emirates', 'United Kingdom', 'United States', 'Uruguay', 'Uzbekistan', 'Vanuatu', 'Venezuela', 'Vietnam', 'Virgin Islands', 'Wake Island', 'Wallis and Futuna', 'West Bank', 'World', 'Yemen', 'Zambia', 'Zimbabwe']\n"
     ]
    }
   ],
   "source": [
    "# read in csv from ../public/countries.csv\n",
    "import csv\n",
    "import os\n",
    "import pandas as pd\n",
    "from pandas import DataFrame\n",
    "import numpy as np\n",
    "from typing import List, Dict, Any\n",
    "from collections import defaultdict\n",
    "\n",
    "def read_csv(file_path: str) -> DataFrame:\n",
    "  df = pd.read_csv(file_path)\n",
    "  return df\n",
    "\n",
    "df = read_csv('../public/countries.csv')\n",
    "list_of_countries = []\n",
    "for country in df[\"official_country_name\"]:\n",
    "  list_of_countries.append(country)\n",
    "print(list_of_countries)"
   ]
  },
  {
   "cell_type": "code",
   "execution_count": null,
   "metadata": {},
   "outputs": [],
   "source": [
    "formatted_country_url_fragments = [\"afghanistan\", \"akrotiri\", \"albania\", \"algeria\", \"american-samoa\", \"andorra\", \"angola\", \"anguilla\", \"antarctica\", \"antigua-and-barbuda\", \"argentina\", \"armenia\", \"aruba\", \"ashmore-and-cartier-islands\", \"australia\", \"austria\", \"azerbaijan\", \"bahamas-the\", \"bahrain\", \"baker-island\", \"bangladesh\", \"barbados\", \"belarus\", \"belgium\", \"belize\", \"benin\", \"bermuda\", \"bhutan\", \"bolivia\", \"bosnia-and-herzegovina\", \"botswana\", \"bouvet-island\", \"brazil\", \"british-indian-ocean-territory\", \"british-virgin-islands\", \"brunei\", \"bulgaria\", \"burkina-faso\", \"burma\", \"burundi\", \"cabo-verde\", \"cambodia\", \"cameroon\", \"canada\", \"cayman-islands\", \"central-african-republic\", \"chad\", \"chile\", \"china\", \"christmas-island\", \"clipperton-island\", \"cocos-keeling-islands\", \"colombia\", \"comoros\", \"congo-democratic-republic-of-the\", \"congo-republic-of-the\", \"cook-islands\", \"coral-sea-islands\", \"costa-rica\", \"cote-divoire\", \"croatia\", \"cuba\", \"curacao\", \"cyprus\", \"czechia\", \"denmark\", \"dhekelia\", \"djibouti\", \"dominica\", \"dominican-republic\", \"ecuador\", \"egypt\", \"el-salvador\", \"equatorial-guinea\", \"eritrea\", \"estonia\", \"eswatini\", \"ethiopia\", \"falkland-islands-islas-malvinas\", \"faroe-islands\", \"fiji\", \"finland\", \"france\", \"french-polynesia\", \"french-southern-and-antarctic-lands\", \"gabon\", \"gambia-the\", \"gaza-strip\", \"georgia\", \"germany\", \"ghana\", \"gibraltar\", \"greece\", \"greenland\", \"grenada\", \"guam\", \"guatemala\", \"guernsey\", \"guinea\", \"guinea-bissau\", \"guyana\", \"haiti\", \"heard-island-and-mcdonald-islands\", \"holy-see-vatican-city\", \"honduras\", \"hong-kong\", \"howland-island\", \"hungary\", \"iceland\", \"india\", \"indonesia\", \"iran\", \"iraq\", \"ireland\", \"isle-of-man\", \"israel\", \"italy\", \"jamaica\", \"jan-mayen\", \"japan\", \"jarvis-island\", \"jersey\", \"johnston-atoll\", \"jordan\", \"kazakhstan\", \"kenya\", \"kingman-reef\", \"kiribati\", \"korea-north\", \"korea-south\", \"kosovo\", \"kuwait\", \"kyrgyzstan\", \"laos\", \"latvia\", \"lebanon\", \"lesotho\", \"liberia\", \"libya\", \"liechtenstein\", \"lithuania\", \"luxembourg\", \"macau\", \"madagascar\", \"malawi\", \"malaysia\", \"maldives\", \"mali\", \"malta\", \"marshall-islands\", \"mauritania\", \"mauritius\", \"mexico\", \"micronesia-federated-states-of\", \"midway-islands\", \"moldova\", \"monaco\", \"mongolia\", \"montenegro\", \"montserrat\", \"morocco\", \"mozambique\", \"namibia\", \"nauru\", \"navassa-island\", \"nepal\", \"netherlands\", \"new-caledonia\", \"new-zealand\", \"nicaragua\", \"niger\", \"nigeria\", \"niue\", \"norfolk-island\", \"north-macedonia\", \"northern-mariana-islands\", \"norway\", \"oman\", \"pakistan\", \"palau\", \"palmyra-atoll\", \"panama\", \"papua-new-guinea\", \"paracel-islands\", \"paraguay\", \"peru\", \"philippines\", \"pitcairn-islands\", \"poland\", \"portugal\", \"puerto-rico\", \"qatar\", \"romania\", \"russia\", \"rwanda\", \"saint-barthelemy\", \"saint-helena-ascension-and-tristan-da-cunha\", \"saint-kitts-and-nevis\", \"saint-lucia\", \"saint-martin\", \"saint-pierre-and-miquelon\", \"saint-vincent-and-the-grenadines\", \"samoa\", \"san-marino\", \"sao-tome-and-principe\", \"saudi-arabia\", \"senegal\", \"serbia\", \"seychelles\", \"sierra-leone\", \"singapore\", \"sint-maarten\", \"slovakia\", \"slovenia\", \"solomon-islands\", \"somalia\", \"south-africa\", \"south-georgia-and-south-sandwich-islands\", \"south-sudan\", \"spain\", \"spratly-islands\", \"sri-lanka\", \"sudan\", \"suriname\", \"svalbard\", \"sweden\", \"switzerland\", \"syria\", \"taiwan\", \"tajikistan\", \"tanzania\", \"thailand\", \"timor-leste\", \"togo\", \"tokelau\", \"tonga\", \"trinidad-and-tobago\", \"tunisia\", \"turkey-turkiye\", \"turkmenistan\", \"turks-and-caicos-islands\", \"tuvalu\", \"uganda\", \"ukraine\", \"united-arab-emirates\", \"united-kingdom\", \"united-states\", \"united-states-pacific-island-wildlife-refuges\", \"uruguay\", \"uzbekistan\", \"vanuatu\", \"venezuela\", \"vietnam\", \"virgin-islands\", \"wake-island\", \"wallis-and-futuna\", \"west-bank\", \"world\", \"yemen\", \"zambia\", \"zimbabwe\"]\n",
    "official_country_names = {\"afghanistan\" : \"Afghanistan\", \"akrotiri\" : \"Akrotiri\", \"albania\" : \"Albania\", \"algeria\" : \"Algeria\", \"american-samoa\" : \"American Samoa\", \"andorra\" : \"Andorra\", \"angola\" : \"Angola\", \"anguilla\" : \"Anguilla\", \"antarctica\" : \"Antarctica\", \"antigua-and-barbuda\" : \"Antigua and Barbuda\", \"argentina\" : \"Argentina\", \"armenia\" : \"Armenia\", \"aruba\" : \"Aruba\", \"ashmore-and-cartier-islands\" : \"Ashmore and Cartier Islands\", \"australia\" : \"Australia\", \"austria\" : \"Austria\", \"azerbaijan\" : \"Azerbaijan\", \"bahamas-the\" : \"Bahamas, The\", \"bahrain\" : \"Bahrain\", \"baker-island\" : \"Baker Island\", \"bangladesh\" : \"Bangladesh\", \"barbados\" : \"Barbados\", \"belarus\" : \"Belarus\", \"belgium\" : \"Belgium\", \"belize\" : \"Belize\", \"benin\" : \"Benin\", \"bermuda\" : \"Bermuda\", \"bhutan\" : \"Bhutan\", \"bolivia\" : \"Bolivia\", \"bosnia-and-herzegovina\" : \"Bosnia and Herzegovina\", \"botswana\" : \"Botswana\", \"bouvet-island\" : \"Bouvet Island\", \"brazil\" : \"Brazil\", \"british-indian-ocean-territory\" : \"British Indian Ocean Territory\", \"british-virgin-islands\" : \"British Virgin Islands\", \"brunei\" : \"Brunei\", \"bulgaria\" : \"Bulgaria\", \"burkina-faso\" : \"Burkina Faso\", \"burma\" : \"Burma\", \"burundi\" : \"Burundi\", \"cabo-verde\" : \"Cabo Verde\", \"cambodia\" : \"Cambodia\", \"cameroon\" : \"Cameroon\", \"canada\" : \"Canada\", \"cayman-islands\" : \"Cayman Islands\", \"central-african-republic\" : \"Central African Republic\", \"chad\" : \"Chad\", \"chile\" : \"Chile\", \"china\" : \"China\", \"christmas-island\" : \"Christmas Island\", \"clipperton-island\" : \"Clipperton Island\", \"cocos-keeling-islands\" : \"Cocos (Keeling) Islands\", \"colombia\" : \"Colombia\", \"comoros\" : \"Comoros\", \"congo-democratic-republic-of-the\" : \"Congo, Democratic Republic of the\", \"congo-republic-of-the\" : \"Congo, Republic of the\", \"cook-islands\" : \"Cook Islands\", \"coral-sea-islands\" : \"Coral Sea Islands\", \"costa-rica\" : \"Costa Rica\", \"cote-divoire\" : \"Cote d'Ivoire\", \"croatia\" : \"Croatia\", \"cuba\" : \"Cuba\", \"curacao\" : \"Curacao\", \"cyprus\" : \"Cyprus\", \"czechia\" : \"Czechia\", \"denmark\" : \"Denmark\", \"dhekelia\" : \"Dhekelia\", \"djibouti\" : \"Djibouti\", \"dominica\" : \"Dominica\", \"dominican-republic\" : \"Dominican Republic\", \"ecuador\" : \"Ecuador\", \"egypt\" : \"Egypt\", \"el-salvador\" : \"El Salvador\", \"equatorial-guinea\" : \"Equatorial Guinea\", \"eritrea\" : \"Eritrea\", \"estonia\" : \"Estonia\", \"eswatini\" : \"Eswatini\", \"ethiopia\" : \"Ethiopia\", \"falkland-islands-islas-malvinas\" : \"Falkland Islands (Islas Malvinas)\", \"faroe-islands\" : \"Faroe Islands\", \"fiji\" : \"Fiji\", \"finland\" : \"Finland\", \"france\" : \"France\", \"french-polynesia\" : \"French Polynesia\", \"french-southern-and-antarctic-lands\" : \"French Southern and Antarctic Lands\", \"gabon\" : \"Gabon\", \"gambia-the\" : \"Gambia, The\", \"gaza-strip\" : \"Gaza Strip\", \"georgia\" : \"Georgia\", \"germany\" : \"Germany\", \"ghana\" : \"Ghana\", \"gibraltar\" : \"Gibraltar\", \"greece\" : \"Greece\", \"greenland\" : \"Greenland\", \"grenada\" : \"Grenada\", \"guam\" : \"Guam\", \"guatemala\" : \"Guatemala\", \"guernsey\" : \"Guernsey\", \"guinea\" : \"Guinea\", \"guinea-bissau\" : \"Guinea-Bissau\", \"guyana\" : \"Guyana\", \"haiti\" : \"Haiti\", \"heard-island-and-mcdonald-islands\" : \"Heard Island and McDonald Islands\", \"holy-see-vatican-city\" : \"Holy See (Vatican City)\", \"honduras\" : \"Honduras\", \"hong-kong\" : \"Hong Kong\", \"howland-island\" : \"Howland Island\", \"hungary\" : \"Hungary\", \"iceland\" : \"Iceland\", \"india\" : \"India\", \"indonesia\" : \"Indonesia\", \"iran\" : \"Iran\", \"iraq\" : \"Iraq\", \"ireland\" : \"Ireland\", \"isle-of-man\" : \"Isle of Man\", \"israel\" : \"Israel\", \"italy\" : \"Italy\", \"jamaica\" : \"Jamaica\", \"jan-mayen\" : \"Jan Mayen\", \"japan\" : \"Japan\", \"jarvis-island\" : \"Jarvis Island\", \"jersey\" : \"Jersey\", \"johnston-atoll\" : \"Johnston Atoll\", \"jordan\" : \"Jordan\", \"kazakhstan\" : \"Kazakhstan\", \"kenya\" : \"Kenya\", \"kingman-reef\" : \"Kingman Reef\", \"kiribati\" : \"Kiribati\", \"korea-north\" : \"Korea, North\", \"korea-south\" : \"Korea, South\", \"kosovo\" : \"Kosovo\", \"kuwait\" : \"Kuwait\", \"kyrgyzstan\" : \"Kyrgyzstan\", \"laos\" : \"Laos\", \"latvia\" : \"Latvia\", \"lebanon\" : \"Lebanon\", \"lesotho\" : \"Lesotho\", \"liberia\" : \"Liberia\", \"libya\" : \"Libya\", \"liechtenstein\" : \"Liechtenstein\", \"lithuania\" : \"Lithuania\", \"luxembourg\" : \"Luxembourg\", \"macau\" : \"Macau\", \"madagascar\" : \"Madagascar\", \"malawi\" : \"Malawi\", \"malaysia\" : \"Malaysia\", \"maldives\" : \"Maldives\", \"mali\" : \"Mali\", \"malta\" : \"Malta\", \"marshall-islands\" : \"Marshall Islands\", \"mauritania\" : \"Mauritania\", \"mauritius\" : \"Mauritius\", \"mexico\" : \"Mexico\", \"micronesia-federated-states-of\" : \"Micronesia, Federated States of\", \"midway-islands\" : \"Midway Islands\", \"moldova\" : \"Moldova\", \"monaco\" : \"Monaco\", \"mongolia\" : \"Mongolia\", \"montenegro\" : \"Montenegro\", \"montserrat\" : \"Montserrat\", \"morocco\" : \"Morocco\", \"mozambique\" : \"Mozambique\", \"namibia\" : \"Namibia\", \"nauru\" : \"Nauru\", \"navassa-island\" : \"Navassa Island\", \"nepal\" : \"Nepal\", \"netherlands\" : \"Netherlands\", \"new-caledonia\" : \"New Caledonia\", \"new-zealand\" : \"New Zealand\", \"nicaragua\" : \"Nicaragua\", \"niger\" : \"Niger\", \"nigeria\" : \"Nigeria\", \"niue\" : \"Niue\", \"norfolk-island\" : \"Norfolk Island\", \"north-macedonia\" : \"North Macedonia\", \"northern-mariana-islands\" : \"Northern Mariana Islands\", \"norway\" : \"Norway\", \"oman\" : \"Oman\", \"pakistan\" : \"Pakistan\", \"palau\" : \"Palau\", \"palmyra-atoll\" : \"Palmyra Atoll\", \"panama\" : \"Panama\", \"papua-new-guinea\" : \"Papua New Guinea\", \"paracel-islands\" : \"Paracel Islands\", \"paraguay\" : \"Paraguay\", \"peru\" : \"Peru\", \"philippines\" : \"Philippines\", \"pitcairn-islands\" : \"Pitcairn Islands\", \"poland\" : \"Poland\", \"portugal\" : \"Portugal\", \"puerto-rico\" : \"Puerto Rico\", \"qatar\" : \"Qatar\", \"romania\" : \"Romania\", \"russia\" : \"Russia\", \"rwanda\" : \"Rwanda\", \"saint-barthelemy\" : \"Saint Barthelemy\", \"saint-helena-ascension-and-tristan-da-cunha\" : \"Saint Helena, Ascension, and Tristan da Cunha\", \"saint-kitts-and-nevis\" : \"Saint Kitts and Nevis\", \"saint-lucia\" : \"Saint Lucia\", \"saint-martin\" : \"Saint Martin\", \"saint-pierre-and-miquelon\" : \"Saint Pierre and Miquelon\", \"saint-vincent-and-the-grenadines\" : \"Saint Vincent and the Grenadines\", \"samoa\" : \"Samoa\", \"san-marino\" : \"San Marino\", \"sao-tome-and-principe\" : \"Sao Tome and Principe\", \"saudi-arabia\" : \"Saudi Arabia\", \"senegal\" : \"Senegal\", \"serbia\" : \"Serbia\", \"seychelles\" : \"Seychelles\", \"sierra-leone\" : \"Sierra Leone\", \"singapore\" : \"Singapore\", \"sint-maarten\" : \"Sint Maarten\", \"slovakia\" : \"Slovakia\", \"slovenia\" : \"Slovenia\", \"solomon-islands\" : \"Solomon Islands\", \"somalia\" : \"Somalia\", \"south-africa\" : \"South Africa\", \"south-georgia-and-south-sandwich-islands\" : \"South Georgia and South Sandwich Islands\", \"south-sudan\" : \"South Sudan\", \"spain\" : \"Spain\", \"spratly-islands\" : \"Spratly Islands\", \"sri-lanka\" : \"Sri Lanka\", \"sudan\" : \"Sudan\", \"suriname\" : \"Suriname\", \"svalbard\" : \"Svalbard\", \"sweden\" : \"Sweden\", \"switzerland\" : \"Switzerland\", \"syria\" : \"Syria\", \"taiwan\" : \"Taiwan\", \"tajikistan\" : \"Tajikistan\", \"tanzania\" : \"Tanzania\", \"thailand\" : \"Thailand\", \"timor-leste\" : \"Timor-Leste\", \"togo\" : \"Togo\", \"tokelau\" : \"Tokelau\", \"tonga\" : \"Tonga\", \"trinidad-and-tobago\" : \"Trinidad and Tobago\", \"tunisia\" : \"Tunisia\", \"turkey-turkiye\" : \"Turkey (Turkiye)\", \"turkmenistan\" : \"Turkmenistan\", \"turks-and-caicos-islands\" : \"Turks and Caicos Islands\", \"tuvalu\" : \"Tuvalu\", \"uganda\" : \"Uganda\", \"ukraine\" : \"Ukraine\", \"united-arab-emirates\" : \"United Arab Emirates\", \"united-kingdom\" : \"United Kingdom\", \"united-states\" : \"United States\", \"united-states-pacific-island-wildlife-refuges\" : \"United States Pacific Island Wildlife Refuges\", \"uruguay\" : \"Uruguay\", \"uzbekistan\" : \"Uzbekistan\", \"vanuatu\" : \"Vanuatu\", \"venezuela\" : \"Venezuela\", \"vietnam\" : \"Vietnam\", \"virgin-islands\" : \"Virgin Islands\", \"wake-island\" : \"Wake Island\", \"wallis-and-futuna\" : \"Wallis and Futuna\", \"west-bank\" : \"West Bank\", \"world\" : \"World\", \"yemen\" : \"Yemen\", \"zambia\" : \"Zambia\", \"zimbabwe\" : \"Zimbabwe\"}\n",
    "for clue in clue_url_fragments:\n",
    "  next_url = BASE_URL + clue\n",
    "  response = rq.get(next_url)\n",
    "  soup = BeautifulSoup(response.text, \"html.parser\")\n",
    "  for country in official_country_names:\n",
    "    print(f\"{clue} {country}\")\n",
    "    try:\n",
    "      country_parent = soup.find('a', href='/the-world-factbook/countries/' + country + '/').parent.parent\n",
    "      parent_div = country_parent.get_text(strip=True)[len(official_country_names[country]):].split(';')[0]\n",
    "    except:\n",
    "      country_parent = None\n",
    "      parent_div = \"NA\"\n",
    "    print(parent_div)"
   ]
  },
  {
   "cell_type": "code",
   "execution_count": 15,
   "metadata": {},
   "outputs": [],
   "source": [
    "clue_url_fragments = [\"field/administrative-divisions/\", \"field/age-structure/\", \"field/age-structure/\", \"field/agricultural-products/\", \"field/airports/\", \"field/area/\", \"field/area/\", \"field/area/\", \"field/area-comparative/\", \"field/birth-rate/\", \"field/budget/\", \"field/budget/\", \"field/capital/\", \"field/capital/\", \"field/capital/\", \"field/carbon-dioxide-emissions/\", \"field/citizenship/\", \"field/citizenship/\", \"field/citizenship/\", \"field/climate/\", \"field/coastline/\", \"field/constitution/\", \"field/credit-ratings/\",\n",
    "                      \"field/current-health-expenditure/\", \"field/death-rate/\", \"field/debt-external/\", \"field/drinking-water-source/\", \"field/electricity/\", \"field/electricity-access/\", \"field/elevation/\", \"field/elevation/\", \"field/elevation/\", \"field/environment-international-agreements/\", \"field/ethnic-groups/\", \"field/executive-branch/\", \"field/exchange-rates/\", \"field/exports/\", \"field/exports-commodities/\", \"field/exports-partners/\", \"field/gdp-official-exchange-rate/\", \"field/geographic-coordinates/\", \"field/geographic-coordinates/\"]\n",
    "official_country_names = {\"afghanistan\" : \"Afghanistan\", \"akrotiri\" : \"Akrotiri\", \"albania\" : \"Albania\", \"algeria\" : \"Algeria\", \"american-samoa\" : \"American Samoa\", \"andorra\" : \"Andorra\", \"angola\" : \"Angola\", \"anguilla\" : \"Anguilla\", \"antarctica\" : \"Antarctica\", \"antigua-and-barbuda\" : \"Antigua and Barbuda\", \"argentina\" : \"Argentina\", \"armenia\" : \"Armenia\", \"aruba\" : \"Aruba\", \"ashmore-and-cartier-islands\" : \"Ashmore and Cartier Islands\", \"australia\" : \"Australia\", \"austria\" : \"Austria\", \"azerbaijan\" : \"Azerbaijan\", \"bahamas-the\" : \"Bahamas, The\", \"bahrain\" : \"Bahrain\", \"baker-island\" : \"Baker Island\", \"bangladesh\" : \"Bangladesh\", \"barbados\" : \"Barbados\", \"belarus\" : \"Belarus\", \"belgium\" : \"Belgium\", \"belize\" : \"Belize\", \"benin\" : \"Benin\", \"bermuda\" : \"Bermuda\", \"bhutan\" : \"Bhutan\", \"bolivia\" : \"Bolivia\", \"bosnia-and-herzegovina\" : \"Bosnia and Herzegovina\", \"botswana\" : \"Botswana\", \"bouvet-island\" : \"Bouvet Island\", \"brazil\" : \"Brazil\", \"british-indian-ocean-territory\" : \"British Indian Ocean Territory\", \"british-virgin-islands\" : \"British Virgin Islands\", \"brunei\" : \"Brunei\", \"bulgaria\" : \"Bulgaria\", \"burkina-faso\" : \"Burkina Faso\", \"burma\" : \"Burma\", \"burundi\" : \"Burundi\", \"cabo-verde\" : \"Cabo Verde\", \"cambodia\" : \"Cambodia\", \"cameroon\" : \"Cameroon\", \"canada\" : \"Canada\", \"cayman-islands\" : \"Cayman Islands\", \"central-african-republic\" : \"Central African Republic\", \"chad\" : \"Chad\", \"chile\" : \"Chile\", \"china\" : \"China\", \"christmas-island\" : \"Christmas Island\", \"clipperton-island\" : \"Clipperton Island\", \"cocos-keeling-islands\" : \"Cocos (Keeling) Islands\", \"colombia\" : \"Colombia\", \"comoros\" : \"Comoros\", \"congo-democratic-republic-of-the\" : \"Congo, Democratic Republic of the\", \"congo-republic-of-the\" : \"Congo, Republic of the\", \"cook-islands\" : \"Cook Islands\", \"coral-sea-islands\" : \"Coral Sea Islands\", \"costa-rica\" : \"Costa Rica\", \"cote-divoire\" : \"Cote d'Ivoire\", \"croatia\" : \"Croatia\", \"cuba\" : \"Cuba\", \"curacao\" : \"Curacao\", \"cyprus\" : \"Cyprus\", \"czechia\" : \"Czechia\", \"denmark\" : \"Denmark\", \"dhekelia\" : \"Dhekelia\", \"djibouti\" : \"Djibouti\", \"dominica\" : \"Dominica\", \"dominican-republic\" : \"Dominican Republic\", \"ecuador\" : \"Ecuador\", \"egypt\" : \"Egypt\", \"el-salvador\" : \"El Salvador\", \"equatorial-guinea\" : \"Equatorial Guinea\", \"eritrea\" : \"Eritrea\", \"estonia\" : \"Estonia\", \"eswatini\" : \"Eswatini\", \"ethiopia\" : \"Ethiopia\", \"falkland-islands-islas-malvinas\" : \"Falkland Islands (Islas Malvinas)\", \"faroe-islands\" : \"Faroe Islands\", \"fiji\" : \"Fiji\", \"finland\" : \"Finland\", \"france\" : \"France\", \"french-polynesia\" : \"French Polynesia\", \"french-southern-and-antarctic-lands\" : \"French Southern and Antarctic Lands\", \"gabon\" : \"Gabon\", \"gambia-the\" : \"Gambia, The\", \"gaza-strip\" : \"Gaza Strip\", \"georgia\" : \"Georgia\", \"germany\" : \"Germany\", \"ghana\" : \"Ghana\", \"gibraltar\" : \"Gibraltar\", \"greece\" : \"Greece\", \"greenland\" : \"Greenland\", \"grenada\" : \"Grenada\", \"guam\" : \"Guam\", \"guatemala\" : \"Guatemala\", \"guernsey\" : \"Guernsey\", \"guinea\" : \"Guinea\", \"guinea-bissau\" : \"Guinea-Bissau\", \"guyana\" : \"Guyana\", \"haiti\" : \"Haiti\", \"heard-island-and-mcdonald-islands\" : \"Heard Island and McDonald Islands\", \"holy-see-vatican-city\" : \"Holy See (Vatican City)\", \"honduras\" : \"Honduras\", \"hong-kong\" : \"Hong Kong\", \"howland-island\" : \"Howland Island\", \"hungary\" : \"Hungary\", \"iceland\" : \"Iceland\", \"india\" : \"India\", \"indonesia\" : \"Indonesia\", \"iran\" : \"Iran\", \"iraq\" : \"Iraq\", \"ireland\" : \"Ireland\", \"isle-of-man\" : \"Isle of Man\", \"israel\" : \"Israel\", \"italy\" : \"Italy\", \"jamaica\" : \"Jamaica\", \"jan-mayen\" : \"Jan Mayen\", \"japan\" : \"Japan\", \"jarvis-island\" : \"Jarvis Island\", \"jersey\" : \"Jersey\", \"johnston-atoll\" : \"Johnston Atoll\", \"jordan\" : \"Jordan\", \"kazakhstan\" : \"Kazakhstan\", \"kenya\" : \"Kenya\", \"kingman-reef\" : \"Kingman Reef\", \"kiribati\" : \"Kiribati\", \"korea-north\" : \"Korea, North\", \"korea-south\" : \"Korea, South\", \"kosovo\" : \"Kosovo\", \"kuwait\" : \"Kuwait\", \"kyrgyzstan\" : \"Kyrgyzstan\", \"laos\" : \"Laos\", \"latvia\" : \"Latvia\", \"lebanon\" : \"Lebanon\", \"lesotho\" : \"Lesotho\", \"liberia\" : \"Liberia\", \"libya\" : \"Libya\", \"liechtenstein\" : \"Liechtenstein\", \"lithuania\" : \"Lithuania\", \"luxembourg\" : \"Luxembourg\", \"macau\" : \"Macau\", \"madagascar\" : \"Madagascar\", \"malawi\" : \"Malawi\", \"malaysia\" : \"Malaysia\", \"maldives\" : \"Maldives\", \"mali\" : \"Mali\", \"malta\" : \"Malta\", \"marshall-islands\" : \"Marshall Islands\", \"mauritania\" : \"Mauritania\", \"mauritius\" : \"Mauritius\", \"mexico\" : \"Mexico\", \"micronesia-federated-states-of\" : \"Micronesia, Federated States of\", \"midway-islands\" : \"Midway Islands\", \"moldova\" : \"Moldova\", \"monaco\" : \"Monaco\", \"mongolia\" : \"Mongolia\", \"montenegro\" : \"Montenegro\", \"montserrat\" : \"Montserrat\", \"morocco\" : \"Morocco\", \"mozambique\" : \"Mozambique\", \"namibia\" : \"Namibia\", \"nauru\" : \"Nauru\", \"navassa-island\" : \"Navassa Island\", \"nepal\" : \"Nepal\", \"netherlands\" : \"Netherlands\", \"new-caledonia\" : \"New Caledonia\", \"new-zealand\" : \"New Zealand\", \"nicaragua\" : \"Nicaragua\", \"niger\" : \"Niger\", \"nigeria\" : \"Nigeria\", \"niue\" : \"Niue\", \"norfolk-island\" : \"Norfolk Island\", \"north-macedonia\" : \"North Macedonia\", \"northern-mariana-islands\" : \"Northern Mariana Islands\", \"norway\" : \"Norway\", \"oman\" : \"Oman\", \"pakistan\" : \"Pakistan\", \"palau\" : \"Palau\", \"palmyra-atoll\" : \"Palmyra Atoll\", \"panama\" : \"Panama\", \"papua-new-guinea\" : \"Papua New Guinea\", \"paracel-islands\" : \"Paracel Islands\", \"paraguay\" : \"Paraguay\", \"peru\" : \"Peru\", \"philippines\" : \"Philippines\", \"pitcairn-islands\" : \"Pitcairn Islands\", \"poland\" : \"Poland\", \"portugal\" : \"Portugal\", \"puerto-rico\" : \"Puerto Rico\", \"qatar\" : \"Qatar\", \"romania\" : \"Romania\", \"russia\" : \"Russia\", \"rwanda\" : \"Rwanda\", \"saint-barthelemy\" : \"Saint Barthelemy\", \"saint-helena-ascension-and-tristan-da-cunha\" : \"Saint Helena, Ascension, and Tristan da Cunha\", \"saint-kitts-and-nevis\" : \"Saint Kitts and Nevis\", \"saint-lucia\" : \"Saint Lucia\", \"saint-martin\" : \"Saint Martin\", \"saint-pierre-and-miquelon\" : \"Saint Pierre and Miquelon\", \"saint-vincent-and-the-grenadines\" : \"Saint Vincent and the Grenadines\", \"samoa\" : \"Samoa\", \"san-marino\" : \"San Marino\", \"sao-tome-and-principe\" : \"Sao Tome and Principe\", \"saudi-arabia\" : \"Saudi Arabia\", \"senegal\" : \"Senegal\", \"serbia\" : \"Serbia\", \"seychelles\" : \"Seychelles\", \"sierra-leone\" : \"Sierra Leone\", \"singapore\" : \"Singapore\", \"sint-maarten\" : \"Sint Maarten\", \"slovakia\" : \"Slovakia\", \"slovenia\" : \"Slovenia\", \"solomon-islands\" : \"Solomon Islands\", \"somalia\" : \"Somalia\", \"south-africa\" : \"South Africa\", \"south-georgia-and-south-sandwich-islands\" : \"South Georgia and South Sandwich Islands\", \"south-sudan\" : \"South Sudan\", \"spain\" : \"Spain\", \"spratly-islands\" : \"Spratly Islands\", \"sri-lanka\" : \"Sri Lanka\", \"sudan\" : \"Sudan\", \"suriname\" : \"Suriname\", \"svalbard\" : \"Svalbard\", \"sweden\" : \"Sweden\", \"switzerland\" : \"Switzerland\", \"syria\" : \"Syria\", \"taiwan\" : \"Taiwan\", \"tajikistan\" : \"Tajikistan\", \"tanzania\" : \"Tanzania\", \"thailand\" : \"Thailand\", \"timor-leste\" : \"Timor-Leste\", \"togo\" : \"Togo\", \"tokelau\" : \"Tokelau\", \"tonga\" : \"Tonga\", \"trinidad-and-tobago\" : \"Trinidad and Tobago\", \"tunisia\" : \"Tunisia\", \"turkey-turkiye\" : \"Turkey (Turkiye)\", \"turkmenistan\" : \"Turkmenistan\", \"turks-and-caicos-islands\" : \"Turks and Caicos Islands\", \"tuvalu\" : \"Tuvalu\", \"uganda\" : \"Uganda\", \"ukraine\" : \"Ukraine\", \"united-arab-emirates\" : \"United Arab Emirates\", \"united-kingdom\" : \"United Kingdom\", \"united-states\" : \"United States\", \"united-states-pacific-island-wildlife-refuges\" : \"United States Pacific Island Wildlife Refuges\", \"uruguay\" : \"Uruguay\", \"uzbekistan\" : \"Uzbekistan\", \"vanuatu\" : \"Vanuatu\", \"venezuela\" : \"Venezuela\", \"vietnam\" : \"Vietnam\", \"virgin-islands\" : \"Virgin Islands\", \"wake-island\" : \"Wake Island\", \"wallis-and-futuna\" : \"Wallis and Futuna\", \"west-bank\" : \"West Bank\", \"world\" : \"World\", \"yemen\" : \"Yemen\", \"zambia\" : \"Zambia\", \"zimbabwe\" : \"Zimbabwe\"}\n",
    "BASE_URL = \"https://www.cia.gov/the-world-factbook/\"\n",
    "\n",
    "def grab_soup(url):\n",
    "  response = rq.get(url)\n",
    "  soup = BeautifulSoup(response.text, \"html.parser\")\n",
    "  return soup"
   ]
  },
  {
   "cell_type": "code",
   "execution_count": 22,
   "metadata": {},
   "outputs": [
    {
     "name": "stdout",
     "output_type": "stream",
     "text": [
      "34 provinces (welayat, singular - welayat)\n"
     ]
    }
   ],
   "source": [
    "# administrative-divisions\n",
    "soup = grab_soup(BASE_URL + clue_url_fragments[0])\n",
    "\n",
    "country = \"afghanistan\"\n",
    "\n",
    "# soup.find_all(\"div\", class_=\"pb30\")\n",
    "\n",
    "try:\n",
    "  country_parent = soup.find('a', href='/the-world-factbook/countries/' + country + '/').parent.parent\n",
    "  content = country_parent.get_text(strip=True)[len(official_country_names[country]):].split(';')[0]\n",
    "except:\n",
    "  country_parent = None\n",
    "  parent_div = \"NA\"\n",
    "print(f\"{content}\")"
   ]
  },
  {
   "cell_type": "code",
   "execution_count": 20,
   "metadata": {},
   "outputs": [
    {
     "name": "stdout",
     "output_type": "stream",
     "text": [
      "<div class=\"pb30\"><h3 class=\"mt10\"><a href=\"/the-world-factbook/countries/afghanistan/\">Afghanistan</a></h3><strong>0-14 years:</strong> 39.8% (male 7,926,748/female 7,686,979)<br/><br/><strong>15-64 years:</strong> 57.35% (male 11,413,654/female 11,084,665)<br/><br/><strong>65 years and over:</strong> 2.85% (2023 est.) (male 515,147/female 604,810)</div>\n"
     ]
    }
   ],
   "source": [
    "# Male/Female population distribution | age-structure\n",
    "soup = grab_soup(BASE_URL + clue_url_fragments[1])\n",
    "\n",
    "try:\n",
    "  country_parent = soup.find('a', href='/the-world-factbook/countries/' + country + '/').parent.parent\n",
    "  male_content = country_parent.get_text(strip=True)[len(official_country_names[country]):].split(\"male \")[1]\n",
    "  # parent_div = country_parent.get_text(strip=True)[len(official_country_names[country]):].split(';')[0]\n",
    "except:\n",
    "  country_parent = None\n",
    "  parent_div = \"NA\"\n",
    "\n",
    "print(f\"{country_parent}\")"
   ]
  }
 ],
 "metadata": {
  "kernelspec": {
   "display_name": "Python 3",
   "language": "python",
   "name": "python3"
  },
  "language_info": {
   "codemirror_mode": {
    "name": "ipython",
    "version": 3
   },
   "file_extension": ".py",
   "mimetype": "text/x-python",
   "name": "python",
   "nbconvert_exporter": "python",
   "pygments_lexer": "ipython3",
   "version": "3.11.7"
  },
  "orig_nbformat": 4
 },
 "nbformat": 4,
 "nbformat_minor": 2
}
